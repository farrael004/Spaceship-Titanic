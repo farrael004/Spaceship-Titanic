{
 "cells": [
  {
   "cell_type": "code",
   "execution_count": 1,
   "id": "fecd0b45",
   "metadata": {
    "_cell_guid": "b1076dfc-b9ad-4769-8c92-a6c4dae69d19",
    "_uuid": "8f2839f25d086af736a60e9eeb907d3b93b6e0e5",
    "execution": {
     "iopub.execute_input": "2022-09-25T03:08:48.881272Z",
     "iopub.status.busy": "2022-09-25T03:08:48.880475Z",
     "iopub.status.idle": "2022-09-25T03:08:51.018433Z",
     "shell.execute_reply": "2022-09-25T03:08:51.017417Z"
    },
    "papermill": {
     "duration": 2.150815,
     "end_time": "2022-09-25T03:08:51.021346",
     "exception": false,
     "start_time": "2022-09-25T03:08:48.870531",
     "status": "completed"
    },
    "tags": []
   },
   "outputs": [
    {
     "data": {
      "text/html": [
       "<style type='text/css'>\n",
       ".datatable table.frame { margin-bottom: 0; }\n",
       ".datatable table.frame thead { border-bottom: none; }\n",
       ".datatable table.frame tr.coltypes td {  color: #FFFFFF;  line-height: 6px;  padding: 0 0.5em;}\n",
       ".datatable .bool    { background: #DDDD99; }\n",
       ".datatable .object  { background: #565656; }\n",
       ".datatable .int     { background: #5D9E5D; }\n",
       ".datatable .float   { background: #4040CC; }\n",
       ".datatable .str     { background: #CC4040; }\n",
       ".datatable .time    { background: #40CC40; }\n",
       ".datatable .row_index {  background: var(--jp-border-color3);  border-right: 1px solid var(--jp-border-color0);  color: var(--jp-ui-font-color3);  font-size: 9px;}\n",
       ".datatable .frame tbody td { text-align: left; }\n",
       ".datatable .frame tr.coltypes .row_index {  background: var(--jp-border-color0);}\n",
       ".datatable th:nth-child(2) { padding-left: 12px; }\n",
       ".datatable .hellipsis {  color: var(--jp-cell-editor-border-color);}\n",
       ".datatable .vellipsis {  background: var(--jp-layout-color0);  color: var(--jp-cell-editor-border-color);}\n",
       ".datatable .na {  color: var(--jp-cell-editor-border-color);  font-size: 80%;}\n",
       ".datatable .sp {  opacity: 0.25;}\n",
       ".datatable .footer { font-size: 9px; }\n",
       ".datatable .frame_dimensions {  background: var(--jp-border-color3);  border-top: 1px solid var(--jp-border-color0);  color: var(--jp-ui-font-color3);  display: inline-block;  opacity: 0.6;  padding: 1px 10px 1px 5px;}\n",
       "</style>\n"
      ],
      "text/plain": [
       "<IPython.core.display.HTML object>"
      ]
     },
     "metadata": {},
     "output_type": "display_data"
    }
   ],
   "source": [
    "import numpy as np \n",
    "import pandas as pd \n",
    "from sklearn.preprocessing import OrdinalEncoder, OneHotEncoder\n",
    "from sklearn.compose import make_column_transformer\n",
    "from sklearn.preprocessing import normalize\n",
    "from sklearn.decomposition import PCA\n",
    "from sklearn.model_selection import train_test_split\n",
    "from sklearn.metrics import f1_score, precision_score, recall_score, accuracy_score\n",
    "from sklearn.ensemble import RandomForestClassifier, GradientBoostingClassifier\n",
    "from sklearn import svm\n",
    "from lightgbm import LGBMClassifier\n",
    "import matplotlib.pyplot as plt\n",
    "from sklearn.datasets import make_classification\n",
    "from sklearn.metrics import confusion_matrix, ConfusionMatrixDisplay\n",
    "\n",
    "\n",
    "# Ignore warnings\n",
    "import warnings\n",
    "warnings.filterwarnings(action=\"ignore\")\n",
    "pd.options.display.max_seq_items = 8000\n",
    "pd.options.display.max_rows = 8000"
   ]
  },
  {
   "cell_type": "markdown",
   "id": "a52d52cd",
   "metadata": {
    "papermill": {
     "duration": 0.006416,
     "end_time": "2022-09-25T03:08:51.034848",
     "exception": false,
     "start_time": "2022-09-25T03:08:51.028432",
     "status": "completed"
    },
    "tags": []
   },
   "source": [
    "## Data Cleaning"
   ]
  },
  {
   "cell_type": "markdown",
   "id": "29457a93",
   "metadata": {
    "papermill": {
     "duration": 0.006331,
     "end_time": "2022-09-25T03:08:51.048000",
     "exception": false,
     "start_time": "2022-09-25T03:08:51.041669",
     "status": "completed"
    },
    "tags": []
   },
   "source": [
    "### Loading data and removing missing values"
   ]
  },
  {
   "cell_type": "code",
   "execution_count": 2,
   "id": "c7cacfbd",
   "metadata": {
    "execution": {
     "iopub.execute_input": "2022-09-25T03:08:51.062889Z",
     "iopub.status.busy": "2022-09-25T03:08:51.062129Z",
     "iopub.status.idle": "2022-09-25T03:08:51.178712Z",
     "shell.execute_reply": "2022-09-25T03:08:51.177614Z"
    },
    "papermill": {
     "duration": 0.127359,
     "end_time": "2022-09-25T03:08:51.181802",
     "exception": false,
     "start_time": "2022-09-25T03:08:51.054443",
     "status": "completed"
    },
    "tags": []
   },
   "outputs": [
    {
     "data": {
      "text/html": [
       "<div>\n",
       "<style scoped>\n",
       "    .dataframe tbody tr th:only-of-type {\n",
       "        vertical-align: middle;\n",
       "    }\n",
       "\n",
       "    .dataframe tbody tr th {\n",
       "        vertical-align: top;\n",
       "    }\n",
       "\n",
       "    .dataframe thead th {\n",
       "        text-align: right;\n",
       "    }\n",
       "</style>\n",
       "<table border=\"1\" class=\"dataframe\">\n",
       "  <thead>\n",
       "    <tr style=\"text-align: right;\">\n",
       "      <th></th>\n",
       "      <th>PassengerId</th>\n",
       "      <th>HomePlanet</th>\n",
       "      <th>CryoSleep</th>\n",
       "      <th>Cabin</th>\n",
       "      <th>Destination</th>\n",
       "      <th>Age</th>\n",
       "      <th>VIP</th>\n",
       "      <th>RoomService</th>\n",
       "      <th>FoodCourt</th>\n",
       "      <th>ShoppingMall</th>\n",
       "      <th>Spa</th>\n",
       "      <th>VRDeck</th>\n",
       "      <th>Name</th>\n",
       "      <th>Transported</th>\n",
       "    </tr>\n",
       "  </thead>\n",
       "  <tbody>\n",
       "    <tr>\n",
       "      <th>0</th>\n",
       "      <td>0001_01</td>\n",
       "      <td>Europa</td>\n",
       "      <td>False</td>\n",
       "      <td>B/0/P</td>\n",
       "      <td>TRAPPIST-1e</td>\n",
       "      <td>39.0</td>\n",
       "      <td>False</td>\n",
       "      <td>0.0</td>\n",
       "      <td>0.0</td>\n",
       "      <td>0.0</td>\n",
       "      <td>0.0</td>\n",
       "      <td>0.0</td>\n",
       "      <td>Maham Ofracculy</td>\n",
       "      <td>False</td>\n",
       "    </tr>\n",
       "    <tr>\n",
       "      <th>1</th>\n",
       "      <td>0002_01</td>\n",
       "      <td>Earth</td>\n",
       "      <td>False</td>\n",
       "      <td>F/0/S</td>\n",
       "      <td>TRAPPIST-1e</td>\n",
       "      <td>24.0</td>\n",
       "      <td>False</td>\n",
       "      <td>109.0</td>\n",
       "      <td>9.0</td>\n",
       "      <td>25.0</td>\n",
       "      <td>549.0</td>\n",
       "      <td>44.0</td>\n",
       "      <td>Juanna Vines</td>\n",
       "      <td>True</td>\n",
       "    </tr>\n",
       "    <tr>\n",
       "      <th>2</th>\n",
       "      <td>0003_01</td>\n",
       "      <td>Europa</td>\n",
       "      <td>False</td>\n",
       "      <td>A/0/S</td>\n",
       "      <td>TRAPPIST-1e</td>\n",
       "      <td>58.0</td>\n",
       "      <td>True</td>\n",
       "      <td>43.0</td>\n",
       "      <td>3576.0</td>\n",
       "      <td>0.0</td>\n",
       "      <td>6715.0</td>\n",
       "      <td>49.0</td>\n",
       "      <td>Altark Susent</td>\n",
       "      <td>False</td>\n",
       "    </tr>\n",
       "    <tr>\n",
       "      <th>3</th>\n",
       "      <td>0003_02</td>\n",
       "      <td>Europa</td>\n",
       "      <td>False</td>\n",
       "      <td>A/0/S</td>\n",
       "      <td>TRAPPIST-1e</td>\n",
       "      <td>33.0</td>\n",
       "      <td>False</td>\n",
       "      <td>0.0</td>\n",
       "      <td>1283.0</td>\n",
       "      <td>371.0</td>\n",
       "      <td>3329.0</td>\n",
       "      <td>193.0</td>\n",
       "      <td>Solam Susent</td>\n",
       "      <td>False</td>\n",
       "    </tr>\n",
       "    <tr>\n",
       "      <th>4</th>\n",
       "      <td>0004_01</td>\n",
       "      <td>Earth</td>\n",
       "      <td>False</td>\n",
       "      <td>F/1/S</td>\n",
       "      <td>TRAPPIST-1e</td>\n",
       "      <td>16.0</td>\n",
       "      <td>False</td>\n",
       "      <td>303.0</td>\n",
       "      <td>70.0</td>\n",
       "      <td>151.0</td>\n",
       "      <td>565.0</td>\n",
       "      <td>2.0</td>\n",
       "      <td>Willy Santantines</td>\n",
       "      <td>True</td>\n",
       "    </tr>\n",
       "  </tbody>\n",
       "</table>\n",
       "</div>"
      ],
      "text/plain": [
       "  PassengerId HomePlanet CryoSleep  Cabin  Destination   Age    VIP  \\\n",
       "0     0001_01     Europa     False  B/0/P  TRAPPIST-1e  39.0  False   \n",
       "1     0002_01      Earth     False  F/0/S  TRAPPIST-1e  24.0  False   \n",
       "2     0003_01     Europa     False  A/0/S  TRAPPIST-1e  58.0   True   \n",
       "3     0003_02     Europa     False  A/0/S  TRAPPIST-1e  33.0  False   \n",
       "4     0004_01      Earth     False  F/1/S  TRAPPIST-1e  16.0  False   \n",
       "\n",
       "   RoomService  FoodCourt  ShoppingMall     Spa  VRDeck               Name  \\\n",
       "0          0.0        0.0           0.0     0.0     0.0    Maham Ofracculy   \n",
       "1        109.0        9.0          25.0   549.0    44.0       Juanna Vines   \n",
       "2         43.0     3576.0           0.0  6715.0    49.0      Altark Susent   \n",
       "3          0.0     1283.0         371.0  3329.0   193.0       Solam Susent   \n",
       "4        303.0       70.0         151.0   565.0     2.0  Willy Santantines   \n",
       "\n",
       "   Transported  \n",
       "0        False  \n",
       "1         True  \n",
       "2        False  \n",
       "3        False  \n",
       "4         True  "
      ]
     },
     "execution_count": 2,
     "metadata": {},
     "output_type": "execute_result"
    }
   ],
   "source": [
    "df1 = pd.read_csv('../input/spaceship-titanic/train.csv')\n",
    "df2 = pd.read_csv('../input/spaceship-titanic/test.csv')\n",
    "\n",
    "df1 = df1.dropna()\n",
    "df2 = df2.dropna()\n",
    "\n",
    "X_train = df1.copy()\n",
    "X_test = df2.copy()\n",
    "\n",
    "X_train.head()"
   ]
  },
  {
   "cell_type": "markdown",
   "id": "1f14d16e",
   "metadata": {
    "papermill": {
     "duration": 0.006639,
     "end_time": "2022-09-25T03:08:51.195650",
     "exception": false,
     "start_time": "2022-09-25T03:08:51.189011",
     "status": "completed"
    },
    "tags": []
   },
   "source": [
    "### Separating training set"
   ]
  },
  {
   "cell_type": "code",
   "execution_count": 3,
   "id": "b3ee0072",
   "metadata": {
    "execution": {
     "iopub.execute_input": "2022-09-25T03:08:51.211337Z",
     "iopub.status.busy": "2022-09-25T03:08:51.210575Z",
     "iopub.status.idle": "2022-09-25T03:08:51.223401Z",
     "shell.execute_reply": "2022-09-25T03:08:51.222475Z"
    },
    "papermill": {
     "duration": 0.023283,
     "end_time": "2022-09-25T03:08:51.225774",
     "exception": false,
     "start_time": "2022-09-25T03:08:51.202491",
     "status": "completed"
    },
    "tags": []
   },
   "outputs": [],
   "source": [
    "y_train = X_train['Transported']\n",
    "X_train = X_train.drop(['Transported'], axis=1)"
   ]
  },
  {
   "cell_type": "markdown",
   "id": "c18f59eb",
   "metadata": {
    "papermill": {
     "duration": 0.006581,
     "end_time": "2022-09-25T03:08:51.239310",
     "exception": false,
     "start_time": "2022-09-25T03:08:51.232729",
     "status": "completed"
    },
    "tags": []
   },
   "source": [
    "### Removing columns that will not be used for training"
   ]
  },
  {
   "cell_type": "code",
   "execution_count": 4,
   "id": "efbc4bf9",
   "metadata": {
    "execution": {
     "iopub.execute_input": "2022-09-25T03:08:51.254948Z",
     "iopub.status.busy": "2022-09-25T03:08:51.254144Z",
     "iopub.status.idle": "2022-09-25T03:08:51.276083Z",
     "shell.execute_reply": "2022-09-25T03:08:51.274997Z"
    },
    "papermill": {
     "duration": 0.032287,
     "end_time": "2022-09-25T03:08:51.278405",
     "exception": false,
     "start_time": "2022-09-25T03:08:51.246118",
     "status": "completed"
    },
    "tags": []
   },
   "outputs": [
    {
     "data": {
      "text/html": [
       "<div>\n",
       "<style scoped>\n",
       "    .dataframe tbody tr th:only-of-type {\n",
       "        vertical-align: middle;\n",
       "    }\n",
       "\n",
       "    .dataframe tbody tr th {\n",
       "        vertical-align: top;\n",
       "    }\n",
       "\n",
       "    .dataframe thead th {\n",
       "        text-align: right;\n",
       "    }\n",
       "</style>\n",
       "<table border=\"1\" class=\"dataframe\">\n",
       "  <thead>\n",
       "    <tr style=\"text-align: right;\">\n",
       "      <th></th>\n",
       "      <th>HomePlanet</th>\n",
       "      <th>CryoSleep</th>\n",
       "      <th>Destination</th>\n",
       "      <th>Age</th>\n",
       "      <th>VIP</th>\n",
       "      <th>RoomService</th>\n",
       "      <th>FoodCourt</th>\n",
       "      <th>ShoppingMall</th>\n",
       "      <th>Spa</th>\n",
       "      <th>VRDeck</th>\n",
       "    </tr>\n",
       "  </thead>\n",
       "  <tbody>\n",
       "    <tr>\n",
       "      <th>0</th>\n",
       "      <td>Europa</td>\n",
       "      <td>False</td>\n",
       "      <td>TRAPPIST-1e</td>\n",
       "      <td>39.0</td>\n",
       "      <td>False</td>\n",
       "      <td>0.0</td>\n",
       "      <td>0.0</td>\n",
       "      <td>0.0</td>\n",
       "      <td>0.0</td>\n",
       "      <td>0.0</td>\n",
       "    </tr>\n",
       "    <tr>\n",
       "      <th>1</th>\n",
       "      <td>Earth</td>\n",
       "      <td>False</td>\n",
       "      <td>TRAPPIST-1e</td>\n",
       "      <td>24.0</td>\n",
       "      <td>False</td>\n",
       "      <td>109.0</td>\n",
       "      <td>9.0</td>\n",
       "      <td>25.0</td>\n",
       "      <td>549.0</td>\n",
       "      <td>44.0</td>\n",
       "    </tr>\n",
       "    <tr>\n",
       "      <th>2</th>\n",
       "      <td>Europa</td>\n",
       "      <td>False</td>\n",
       "      <td>TRAPPIST-1e</td>\n",
       "      <td>58.0</td>\n",
       "      <td>True</td>\n",
       "      <td>43.0</td>\n",
       "      <td>3576.0</td>\n",
       "      <td>0.0</td>\n",
       "      <td>6715.0</td>\n",
       "      <td>49.0</td>\n",
       "    </tr>\n",
       "    <tr>\n",
       "      <th>3</th>\n",
       "      <td>Europa</td>\n",
       "      <td>False</td>\n",
       "      <td>TRAPPIST-1e</td>\n",
       "      <td>33.0</td>\n",
       "      <td>False</td>\n",
       "      <td>0.0</td>\n",
       "      <td>1283.0</td>\n",
       "      <td>371.0</td>\n",
       "      <td>3329.0</td>\n",
       "      <td>193.0</td>\n",
       "    </tr>\n",
       "    <tr>\n",
       "      <th>4</th>\n",
       "      <td>Earth</td>\n",
       "      <td>False</td>\n",
       "      <td>TRAPPIST-1e</td>\n",
       "      <td>16.0</td>\n",
       "      <td>False</td>\n",
       "      <td>303.0</td>\n",
       "      <td>70.0</td>\n",
       "      <td>151.0</td>\n",
       "      <td>565.0</td>\n",
       "      <td>2.0</td>\n",
       "    </tr>\n",
       "  </tbody>\n",
       "</table>\n",
       "</div>"
      ],
      "text/plain": [
       "  HomePlanet CryoSleep  Destination   Age    VIP  RoomService  FoodCourt  \\\n",
       "0     Europa     False  TRAPPIST-1e  39.0  False          0.0        0.0   \n",
       "1      Earth     False  TRAPPIST-1e  24.0  False        109.0        9.0   \n",
       "2     Europa     False  TRAPPIST-1e  58.0   True         43.0     3576.0   \n",
       "3     Europa     False  TRAPPIST-1e  33.0  False          0.0     1283.0   \n",
       "4      Earth     False  TRAPPIST-1e  16.0  False        303.0       70.0   \n",
       "\n",
       "   ShoppingMall     Spa  VRDeck  \n",
       "0           0.0     0.0     0.0  \n",
       "1          25.0   549.0    44.0  \n",
       "2           0.0  6715.0    49.0  \n",
       "3         371.0  3329.0   193.0  \n",
       "4         151.0   565.0     2.0  "
      ]
     },
     "execution_count": 4,
     "metadata": {},
     "output_type": "execute_result"
    }
   ],
   "source": [
    "X_train = X_train.drop(['Name','PassengerId', 'Cabin'], axis=1)\n",
    "X_test = X_test.drop(['Name','PassengerId', 'Cabin'], axis=1)\n",
    "\n",
    "X_train.head()"
   ]
  },
  {
   "cell_type": "markdown",
   "id": "991e7382",
   "metadata": {
    "papermill": {
     "duration": 0.006891,
     "end_time": "2022-09-25T03:08:51.292540",
     "exception": false,
     "start_time": "2022-09-25T03:08:51.285649",
     "status": "completed"
    },
    "tags": []
   },
   "source": [
    "### Turning ordinal features into numeric values"
   ]
  },
  {
   "cell_type": "code",
   "execution_count": 5,
   "id": "639ed2fd",
   "metadata": {
    "execution": {
     "iopub.execute_input": "2022-09-25T03:08:51.309480Z",
     "iopub.status.busy": "2022-09-25T03:08:51.309061Z",
     "iopub.status.idle": "2022-09-25T03:08:51.340911Z",
     "shell.execute_reply": "2022-09-25T03:08:51.340017Z"
    },
    "papermill": {
     "duration": 0.043583,
     "end_time": "2022-09-25T03:08:51.343234",
     "exception": false,
     "start_time": "2022-09-25T03:08:51.299651",
     "status": "completed"
    },
    "tags": []
   },
   "outputs": [
    {
     "data": {
      "text/html": [
       "<div>\n",
       "<style scoped>\n",
       "    .dataframe tbody tr th:only-of-type {\n",
       "        vertical-align: middle;\n",
       "    }\n",
       "\n",
       "    .dataframe tbody tr th {\n",
       "        vertical-align: top;\n",
       "    }\n",
       "\n",
       "    .dataframe thead th {\n",
       "        text-align: right;\n",
       "    }\n",
       "</style>\n",
       "<table border=\"1\" class=\"dataframe\">\n",
       "  <thead>\n",
       "    <tr style=\"text-align: right;\">\n",
       "      <th></th>\n",
       "      <th>HomePlanet</th>\n",
       "      <th>CryoSleep</th>\n",
       "      <th>Destination</th>\n",
       "      <th>Age</th>\n",
       "      <th>VIP</th>\n",
       "      <th>RoomService</th>\n",
       "      <th>FoodCourt</th>\n",
       "      <th>ShoppingMall</th>\n",
       "      <th>Spa</th>\n",
       "      <th>VRDeck</th>\n",
       "    </tr>\n",
       "  </thead>\n",
       "  <tbody>\n",
       "    <tr>\n",
       "      <th>0</th>\n",
       "      <td>Europa</td>\n",
       "      <td>0.0</td>\n",
       "      <td>TRAPPIST-1e</td>\n",
       "      <td>39.0</td>\n",
       "      <td>0.0</td>\n",
       "      <td>0.0</td>\n",
       "      <td>0.0</td>\n",
       "      <td>0.0</td>\n",
       "      <td>0.0</td>\n",
       "      <td>0.0</td>\n",
       "    </tr>\n",
       "    <tr>\n",
       "      <th>1</th>\n",
       "      <td>Earth</td>\n",
       "      <td>0.0</td>\n",
       "      <td>TRAPPIST-1e</td>\n",
       "      <td>24.0</td>\n",
       "      <td>0.0</td>\n",
       "      <td>109.0</td>\n",
       "      <td>9.0</td>\n",
       "      <td>25.0</td>\n",
       "      <td>549.0</td>\n",
       "      <td>44.0</td>\n",
       "    </tr>\n",
       "    <tr>\n",
       "      <th>2</th>\n",
       "      <td>Europa</td>\n",
       "      <td>0.0</td>\n",
       "      <td>TRAPPIST-1e</td>\n",
       "      <td>58.0</td>\n",
       "      <td>1.0</td>\n",
       "      <td>43.0</td>\n",
       "      <td>3576.0</td>\n",
       "      <td>0.0</td>\n",
       "      <td>6715.0</td>\n",
       "      <td>49.0</td>\n",
       "    </tr>\n",
       "    <tr>\n",
       "      <th>3</th>\n",
       "      <td>Europa</td>\n",
       "      <td>0.0</td>\n",
       "      <td>TRAPPIST-1e</td>\n",
       "      <td>33.0</td>\n",
       "      <td>0.0</td>\n",
       "      <td>0.0</td>\n",
       "      <td>1283.0</td>\n",
       "      <td>371.0</td>\n",
       "      <td>3329.0</td>\n",
       "      <td>193.0</td>\n",
       "    </tr>\n",
       "    <tr>\n",
       "      <th>4</th>\n",
       "      <td>Earth</td>\n",
       "      <td>0.0</td>\n",
       "      <td>TRAPPIST-1e</td>\n",
       "      <td>16.0</td>\n",
       "      <td>0.0</td>\n",
       "      <td>303.0</td>\n",
       "      <td>70.0</td>\n",
       "      <td>151.0</td>\n",
       "      <td>565.0</td>\n",
       "      <td>2.0</td>\n",
       "    </tr>\n",
       "  </tbody>\n",
       "</table>\n",
       "</div>"
      ],
      "text/plain": [
       "  HomePlanet  CryoSleep  Destination   Age  VIP  RoomService  FoodCourt  \\\n",
       "0     Europa        0.0  TRAPPIST-1e  39.0  0.0          0.0        0.0   \n",
       "1      Earth        0.0  TRAPPIST-1e  24.0  0.0        109.0        9.0   \n",
       "2     Europa        0.0  TRAPPIST-1e  58.0  1.0         43.0     3576.0   \n",
       "3     Europa        0.0  TRAPPIST-1e  33.0  0.0          0.0     1283.0   \n",
       "4      Earth        0.0  TRAPPIST-1e  16.0  0.0        303.0       70.0   \n",
       "\n",
       "   ShoppingMall     Spa  VRDeck  \n",
       "0           0.0     0.0     0.0  \n",
       "1          25.0   549.0    44.0  \n",
       "2           0.0  6715.0    49.0  \n",
       "3         371.0  3329.0   193.0  \n",
       "4         151.0   565.0     2.0  "
      ]
     },
     "execution_count": 5,
     "metadata": {},
     "output_type": "execute_result"
    }
   ],
   "source": [
    "ordinal_feats = ['CryoSleep', 'VIP']\n",
    "for feat in ordinal_feats:\n",
    "    encoder = OrdinalEncoder()\n",
    "    X_train[feat] = encoder.fit_transform(X_train[feat].values.reshape(-1, 1))\n",
    "    X_test[feat] = encoder.fit_transform(X_test[feat].values.reshape(-1, 1))\n",
    "\n",
    "y_train = encoder.fit_transform(y_train.values.reshape(-1, 1))\n",
    "\n",
    "X_train.head()"
   ]
  },
  {
   "cell_type": "markdown",
   "id": "e9082ce2",
   "metadata": {
    "papermill": {
     "duration": 0.006944,
     "end_time": "2022-09-25T03:08:51.357572",
     "exception": false,
     "start_time": "2022-09-25T03:08:51.350628",
     "status": "completed"
    },
    "tags": []
   },
   "source": [
    "### Separating nominal features into separate columns"
   ]
  },
  {
   "cell_type": "code",
   "execution_count": 6,
   "id": "573fb456",
   "metadata": {
    "execution": {
     "iopub.execute_input": "2022-09-25T03:08:51.373853Z",
     "iopub.status.busy": "2022-09-25T03:08:51.373262Z",
     "iopub.status.idle": "2022-09-25T03:08:51.412999Z",
     "shell.execute_reply": "2022-09-25T03:08:51.411938Z"
    },
    "papermill": {
     "duration": 0.050684,
     "end_time": "2022-09-25T03:08:51.415405",
     "exception": false,
     "start_time": "2022-09-25T03:08:51.364721",
     "status": "completed"
    },
    "tags": []
   },
   "outputs": [
    {
     "data": {
      "text/html": [
       "<div>\n",
       "<style scoped>\n",
       "    .dataframe tbody tr th:only-of-type {\n",
       "        vertical-align: middle;\n",
       "    }\n",
       "\n",
       "    .dataframe tbody tr th {\n",
       "        vertical-align: top;\n",
       "    }\n",
       "\n",
       "    .dataframe thead th {\n",
       "        text-align: right;\n",
       "    }\n",
       "</style>\n",
       "<table border=\"1\" class=\"dataframe\">\n",
       "  <thead>\n",
       "    <tr style=\"text-align: right;\">\n",
       "      <th></th>\n",
       "      <th>onehotencoder__x0_Earth</th>\n",
       "      <th>onehotencoder__x0_Europa</th>\n",
       "      <th>onehotencoder__x0_Mars</th>\n",
       "      <th>onehotencoder__x1_55 Cancri e</th>\n",
       "      <th>onehotencoder__x1_PSO J318.5-22</th>\n",
       "      <th>onehotencoder__x1_TRAPPIST-1e</th>\n",
       "      <th>CryoSleep</th>\n",
       "      <th>Age</th>\n",
       "      <th>VIP</th>\n",
       "      <th>RoomService</th>\n",
       "      <th>FoodCourt</th>\n",
       "      <th>ShoppingMall</th>\n",
       "      <th>Spa</th>\n",
       "      <th>VRDeck</th>\n",
       "    </tr>\n",
       "  </thead>\n",
       "  <tbody>\n",
       "    <tr>\n",
       "      <th>0</th>\n",
       "      <td>0.0</td>\n",
       "      <td>1.0</td>\n",
       "      <td>0.0</td>\n",
       "      <td>0.0</td>\n",
       "      <td>0.0</td>\n",
       "      <td>1.0</td>\n",
       "      <td>0.0</td>\n",
       "      <td>39.0</td>\n",
       "      <td>0.0</td>\n",
       "      <td>0.0</td>\n",
       "      <td>0.0</td>\n",
       "      <td>0.0</td>\n",
       "      <td>0.0</td>\n",
       "      <td>0.0</td>\n",
       "    </tr>\n",
       "    <tr>\n",
       "      <th>1</th>\n",
       "      <td>1.0</td>\n",
       "      <td>0.0</td>\n",
       "      <td>0.0</td>\n",
       "      <td>0.0</td>\n",
       "      <td>0.0</td>\n",
       "      <td>1.0</td>\n",
       "      <td>0.0</td>\n",
       "      <td>24.0</td>\n",
       "      <td>0.0</td>\n",
       "      <td>109.0</td>\n",
       "      <td>9.0</td>\n",
       "      <td>25.0</td>\n",
       "      <td>549.0</td>\n",
       "      <td>44.0</td>\n",
       "    </tr>\n",
       "    <tr>\n",
       "      <th>2</th>\n",
       "      <td>0.0</td>\n",
       "      <td>1.0</td>\n",
       "      <td>0.0</td>\n",
       "      <td>0.0</td>\n",
       "      <td>0.0</td>\n",
       "      <td>1.0</td>\n",
       "      <td>0.0</td>\n",
       "      <td>58.0</td>\n",
       "      <td>1.0</td>\n",
       "      <td>43.0</td>\n",
       "      <td>3576.0</td>\n",
       "      <td>0.0</td>\n",
       "      <td>6715.0</td>\n",
       "      <td>49.0</td>\n",
       "    </tr>\n",
       "    <tr>\n",
       "      <th>3</th>\n",
       "      <td>0.0</td>\n",
       "      <td>1.0</td>\n",
       "      <td>0.0</td>\n",
       "      <td>0.0</td>\n",
       "      <td>0.0</td>\n",
       "      <td>1.0</td>\n",
       "      <td>0.0</td>\n",
       "      <td>33.0</td>\n",
       "      <td>0.0</td>\n",
       "      <td>0.0</td>\n",
       "      <td>1283.0</td>\n",
       "      <td>371.0</td>\n",
       "      <td>3329.0</td>\n",
       "      <td>193.0</td>\n",
       "    </tr>\n",
       "    <tr>\n",
       "      <th>4</th>\n",
       "      <td>1.0</td>\n",
       "      <td>0.0</td>\n",
       "      <td>0.0</td>\n",
       "      <td>0.0</td>\n",
       "      <td>0.0</td>\n",
       "      <td>1.0</td>\n",
       "      <td>0.0</td>\n",
       "      <td>16.0</td>\n",
       "      <td>0.0</td>\n",
       "      <td>303.0</td>\n",
       "      <td>70.0</td>\n",
       "      <td>151.0</td>\n",
       "      <td>565.0</td>\n",
       "      <td>2.0</td>\n",
       "    </tr>\n",
       "  </tbody>\n",
       "</table>\n",
       "</div>"
      ],
      "text/plain": [
       "   onehotencoder__x0_Earth  onehotencoder__x0_Europa  onehotencoder__x0_Mars  \\\n",
       "0                      0.0                       1.0                     0.0   \n",
       "1                      1.0                       0.0                     0.0   \n",
       "2                      0.0                       1.0                     0.0   \n",
       "3                      0.0                       1.0                     0.0   \n",
       "4                      1.0                       0.0                     0.0   \n",
       "\n",
       "   onehotencoder__x1_55 Cancri e  onehotencoder__x1_PSO J318.5-22  \\\n",
       "0                            0.0                              0.0   \n",
       "1                            0.0                              0.0   \n",
       "2                            0.0                              0.0   \n",
       "3                            0.0                              0.0   \n",
       "4                            0.0                              0.0   \n",
       "\n",
       "   onehotencoder__x1_TRAPPIST-1e  CryoSleep   Age  VIP  RoomService  \\\n",
       "0                            1.0        0.0  39.0  0.0          0.0   \n",
       "1                            1.0        0.0  24.0  0.0        109.0   \n",
       "2                            1.0        0.0  58.0  1.0         43.0   \n",
       "3                            1.0        0.0  33.0  0.0          0.0   \n",
       "4                            1.0        0.0  16.0  0.0        303.0   \n",
       "\n",
       "   FoodCourt  ShoppingMall     Spa  VRDeck  \n",
       "0        0.0           0.0     0.0     0.0  \n",
       "1        9.0          25.0   549.0    44.0  \n",
       "2     3576.0           0.0  6715.0    49.0  \n",
       "3     1283.0         371.0  3329.0   193.0  \n",
       "4       70.0         151.0   565.0     2.0  "
      ]
     },
     "execution_count": 6,
     "metadata": {},
     "output_type": "execute_result"
    }
   ],
   "source": [
    "transformer = make_column_transformer(\n",
    "    (OneHotEncoder(), ['HomePlanet','Destination']),\n",
    "    remainder='passthrough')\n",
    "\n",
    "transformed = transformer.fit_transform(X_train)\n",
    "X_train = pd.DataFrame(\n",
    "    transformed, \n",
    "    columns=transformer.get_feature_names())\n",
    "    \n",
    "transformed = transformer.fit_transform(X_test)\n",
    "X_test = pd.DataFrame(\n",
    "    transformed, \n",
    "    columns=transformer.get_feature_names())\n",
    "\n",
    "X_train.head()"
   ]
  },
  {
   "cell_type": "markdown",
   "id": "b3560d11",
   "metadata": {
    "papermill": {
     "duration": 0.007462,
     "end_time": "2022-09-25T03:08:51.430488",
     "exception": false,
     "start_time": "2022-09-25T03:08:51.423026",
     "status": "completed"
    },
    "tags": []
   },
   "source": [
    "### Normilizing data"
   ]
  },
  {
   "cell_type": "code",
   "execution_count": 7,
   "id": "30c2cd64",
   "metadata": {
    "execution": {
     "iopub.execute_input": "2022-09-25T03:08:51.447692Z",
     "iopub.status.busy": "2022-09-25T03:08:51.446958Z",
     "iopub.status.idle": "2022-09-25T03:08:51.456591Z",
     "shell.execute_reply": "2022-09-25T03:08:51.455737Z"
    },
    "papermill": {
     "duration": 0.020423,
     "end_time": "2022-09-25T03:08:51.458606",
     "exception": false,
     "start_time": "2022-09-25T03:08:51.438183",
     "status": "completed"
    },
    "tags": []
   },
   "outputs": [],
   "source": [
    "X_train = normalize(X_train)\n",
    "X_test = normalize(X_test)"
   ]
  },
  {
   "cell_type": "markdown",
   "id": "b33b8c4e",
   "metadata": {
    "papermill": {
     "duration": 0.007577,
     "end_time": "2022-09-25T03:08:51.473708",
     "exception": false,
     "start_time": "2022-09-25T03:08:51.466131",
     "status": "completed"
    },
    "tags": []
   },
   "source": [
    "### Performing principle component analysis"
   ]
  },
  {
   "cell_type": "code",
   "execution_count": 8,
   "id": "a88cf53d",
   "metadata": {
    "execution": {
     "iopub.execute_input": "2022-09-25T03:08:51.491377Z",
     "iopub.status.busy": "2022-09-25T03:08:51.490723Z",
     "iopub.status.idle": "2022-09-25T03:08:51.523415Z",
     "shell.execute_reply": "2022-09-25T03:08:51.522111Z"
    },
    "papermill": {
     "duration": 0.045471,
     "end_time": "2022-09-25T03:08:51.526793",
     "exception": false,
     "start_time": "2022-09-25T03:08:51.481322",
     "status": "completed"
    },
    "tags": []
   },
   "outputs": [],
   "source": [
    "pca = PCA(n_components = 0.9, svd_solver='full')\n",
    "  \n",
    "X_train = pca.fit_transform(X_train) #Create PCA and apply to train data\n",
    "X_test = pca.transform(X_test)       #Apply created PCA to new data"
   ]
  },
  {
   "cell_type": "markdown",
   "id": "83836983",
   "metadata": {
    "papermill": {
     "duration": 0.01169,
     "end_time": "2022-09-25T03:08:51.551083",
     "exception": false,
     "start_time": "2022-09-25T03:08:51.539393",
     "status": "completed"
    },
    "tags": []
   },
   "source": [
    "### Create validation data from train data"
   ]
  },
  {
   "cell_type": "code",
   "execution_count": 9,
   "id": "2cfb94ae",
   "metadata": {
    "execution": {
     "iopub.execute_input": "2022-09-25T03:08:51.577531Z",
     "iopub.status.busy": "2022-09-25T03:08:51.576961Z",
     "iopub.status.idle": "2022-09-25T03:08:51.585334Z",
     "shell.execute_reply": "2022-09-25T03:08:51.584195Z"
    },
    "papermill": {
     "duration": 0.02492,
     "end_time": "2022-09-25T03:08:51.588112",
     "exception": false,
     "start_time": "2022-09-25T03:08:51.563192",
     "status": "completed"
    },
    "tags": []
   },
   "outputs": [],
   "source": [
    "X_train, X_val, y_train, y_val = train_test_split(X_train, y_train, test_size=0.8, random_state=1)"
   ]
  },
  {
   "cell_type": "markdown",
   "id": "370d3368",
   "metadata": {
    "papermill": {
     "duration": 0.011775,
     "end_time": "2022-09-25T03:08:51.612397",
     "exception": false,
     "start_time": "2022-09-25T03:08:51.600622",
     "status": "completed"
    },
    "tags": []
   },
   "source": [
    "## Creating and training classification models"
   ]
  },
  {
   "cell_type": "markdown",
   "id": "a8a61f7e",
   "metadata": {
    "papermill": {
     "duration": 0.011966,
     "end_time": "2022-09-25T03:08:51.636442",
     "exception": false,
     "start_time": "2022-09-25T03:08:51.624476",
     "status": "completed"
    },
    "tags": []
   },
   "source": [
    "### Function for calculating model performance"
   ]
  },
  {
   "cell_type": "code",
   "execution_count": 10,
   "id": "9e733020",
   "metadata": {
    "execution": {
     "iopub.execute_input": "2022-09-25T03:08:51.653633Z",
     "iopub.status.busy": "2022-09-25T03:08:51.653259Z",
     "iopub.status.idle": "2022-09-25T03:08:51.659406Z",
     "shell.execute_reply": "2022-09-25T03:08:51.658366Z"
    },
    "papermill": {
     "duration": 0.016835,
     "end_time": "2022-09-25T03:08:51.661442",
     "exception": false,
     "start_time": "2022-09-25T03:08:51.644607",
     "status": "completed"
    },
    "tags": []
   },
   "outputs": [],
   "source": [
    "def calculate_results(y_true, y_pred):\n",
    "    accuracy = accuracy_score(y_true, y_pred)\n",
    "    precision = precision_score(y_true, y_pred)\n",
    "    recall = recall_score(y_true, y_pred)\n",
    "    f1 = f1_score(y_true, y_pred)\n",
    "    \n",
    "    \n",
    "    model_results = {\"Accuracy\": accuracy,\n",
    "                     \"Precision\": precision,\n",
    "                     \"Recall\": recall,\n",
    "                     \"F1 Score\": f1}\n",
    "    return model_results"
   ]
  },
  {
   "cell_type": "markdown",
   "id": "6acec431",
   "metadata": {
    "papermill": {
     "duration": 0.007316,
     "end_time": "2022-09-25T03:08:51.676346",
     "exception": false,
     "start_time": "2022-09-25T03:08:51.669030",
     "status": "completed"
    },
    "tags": []
   },
   "source": [
    "### Random Forest"
   ]
  },
  {
   "cell_type": "code",
   "execution_count": 11,
   "id": "1c286a85",
   "metadata": {
    "execution": {
     "iopub.execute_input": "2022-09-25T03:08:51.692935Z",
     "iopub.status.busy": "2022-09-25T03:08:51.692525Z",
     "iopub.status.idle": "2022-09-25T03:08:52.303592Z",
     "shell.execute_reply": "2022-09-25T03:08:52.302472Z"
    },
    "papermill": {
     "duration": 0.622299,
     "end_time": "2022-09-25T03:08:52.306000",
     "exception": false,
     "start_time": "2022-09-25T03:08:51.683701",
     "status": "completed"
    },
    "tags": []
   },
   "outputs": [
    {
     "data": {
      "image/png": "[encoded data removed]",
      "text/plain": [
       "<Figure size 432x288 with 2 Axes>"
      ]
     },
     "metadata": {
      "needs_background": "light"
     },
     "output_type": "display_data"
    }
   ],
   "source": [
    "rf = RandomForestClassifier()\n",
    "model = rf.fit(X_train, y_train)\n",
    "y_pred = model.predict(X_val)\n",
    "rf_results = calculate_results(y_val, y_pred)\n",
    "results = pd.DataFrame(rf_results, index=['Random Forest']).T\n",
    "\n",
    "cm = confusion_matrix(y_val, y_pred)\n",
    "disp = ConfusionMatrixDisplay(confusion_matrix=cm)\n",
    "disp.plot()\n",
    "plt.show()"
   ]
  },
  {
   "cell_type": "markdown",
   "id": "dfc5a0f9",
   "metadata": {
    "papermill": {
     "duration": 0.007642,
     "end_time": "2022-09-25T03:08:52.321756",
     "exception": false,
     "start_time": "2022-09-25T03:08:52.314114",
     "status": "completed"
    },
    "tags": []
   },
   "source": [
    "### SVM"
   ]
  },
  {
   "cell_type": "code",
   "execution_count": 12,
   "id": "80898c94",
   "metadata": {
    "execution": {
     "iopub.execute_input": "2022-09-25T03:08:52.339081Z",
     "iopub.status.busy": "2022-09-25T03:08:52.338682Z",
     "iopub.status.idle": "2022-09-25T03:08:52.777716Z",
     "shell.execute_reply": "2022-09-25T03:08:52.776641Z"
    },
    "papermill": {
     "duration": 0.450803,
     "end_time": "2022-09-25T03:08:52.780334",
     "exception": false,
     "start_time": "2022-09-25T03:08:52.329531",
     "status": "completed"
    },
    "tags": []
   },
   "outputs": [
    {
     "data": {
      "image/png": "[encoded data removed]",
      "text/plain": [
       "<Figure size 432x288 with 2 Axes>"
      ]
     },
     "metadata": {
      "needs_background": "light"
     },
     "output_type": "display_data"
    }
   ],
   "source": [
    "clf = svm.SVC()\n",
    "\n",
    "clf.fit(X_train, y_train)\n",
    "\n",
    "y_pred = clf.predict(X_val)\n",
    "svm_results = calculate_results(y_val, y_pred)\n",
    "results['SVM'] = pd.DataFrame(svm_results, index=['SVM']).T\n",
    "\n",
    "cm = confusion_matrix(y_val, y_pred)\n",
    "disp = ConfusionMatrixDisplay(confusion_matrix=cm)\n",
    "disp.plot()\n",
    "plt.show()"
   ]
  },
  {
   "cell_type": "markdown",
   "id": "90797bc6",
   "metadata": {
    "papermill": {
     "duration": 0.008008,
     "end_time": "2022-09-25T03:08:52.796452",
     "exception": false,
     "start_time": "2022-09-25T03:08:52.788444",
     "status": "completed"
    },
    "tags": []
   },
   "source": [
    "### Gradient Boosting"
   ]
  },
  {
   "cell_type": "code",
   "execution_count": 13,
   "id": "d16b9789",
   "metadata": {
    "execution": {
     "iopub.execute_input": "2022-09-25T03:08:52.814778Z",
     "iopub.status.busy": "2022-09-25T03:08:52.814346Z",
     "iopub.status.idle": "2022-09-25T03:09:03.294708Z",
     "shell.execute_reply": "2022-09-25T03:09:03.293769Z"
    },
    "papermill": {
     "duration": 10.492394,
     "end_time": "2022-09-25T03:09:03.296880",
     "exception": false,
     "start_time": "2022-09-25T03:08:52.804486",
     "status": "completed"
    },
    "tags": []
   },
   "outputs": [
    {
     "data": {
      "image/png": "[encoded data removed]",
      "text/plain": [
       "<Figure size 432x288 with 2 Axes>"
      ]
     },
     "metadata": {
      "needs_background": "light"
     },
     "output_type": "display_data"
    }
   ],
   "source": [
    "gbr = GradientBoostingClassifier(n_estimators=6000,\n",
    "                                learning_rate=0.01,\n",
    "                                max_depth=4,\n",
    "                                max_features='sqrt',\n",
    "                                min_samples_leaf=15,\n",
    "                                min_samples_split=10,\n",
    "                                random_state=42) \n",
    "\n",
    "model = gbr.fit(X_train, y_train)\n",
    "y_pred = model.predict(X_val)\n",
    "gbr_results = calculate_results(y_val, y_pred)\n",
    "results['Gradient Boosting'] = pd.DataFrame(gbr_results, index=['Gradient Boosting']).T\n",
    "\n",
    "cm = confusion_matrix(y_val, y_pred)\n",
    "disp = ConfusionMatrixDisplay(confusion_matrix=cm)\n",
    "disp.plot()\n",
    "plt.show()"
   ]
  },
  {
   "cell_type": "markdown",
   "id": "18b96488",
   "metadata": {
    "papermill": {
     "duration": 0.008487,
     "end_time": "2022-09-25T03:09:03.314318",
     "exception": false,
     "start_time": "2022-09-25T03:09:03.305831",
     "status": "completed"
    },
    "tags": []
   },
   "source": [
    "### LGBM"
   ]
  },
  {
   "cell_type": "code",
   "execution_count": 14,
   "id": "ac13b408",
   "metadata": {
    "execution": {
     "iopub.execute_input": "2022-09-25T03:09:03.334304Z",
     "iopub.status.busy": "2022-09-25T03:09:03.333264Z",
     "iopub.status.idle": "2022-09-25T03:09:06.161245Z",
     "shell.execute_reply": "2022-09-25T03:09:06.160135Z"
    },
    "papermill": {
     "duration": 2.84051,
     "end_time": "2022-09-25T03:09:06.163680",
     "exception": false,
     "start_time": "2022-09-25T03:09:03.323170",
     "status": "completed"
    },
    "tags": []
   },
   "outputs": [
    {
     "name": "stdout",
     "output_type": "stream",
     "text": [
      "[LightGBM] [Warning] bagging_fraction is set=0.8, subsample=1.0 will be ignored. Current value: bagging_fraction=0.8\n",
      "[LightGBM] [Warning] feature_fraction is set=0.2, colsample_bytree=1.0 will be ignored. Current value: feature_fraction=0.2\n",
      "[LightGBM] [Warning] min_sum_hessian_in_leaf is set=11, min_child_weight=0.001 will be ignored. Current value: min_sum_hessian_in_leaf=11\n",
      "[LightGBM] [Warning] bagging_freq is set=4, subsample_freq=0 will be ignored. Current value: bagging_freq=4\n"
     ]
    },
    {
     "data": {
      "image/png": "[encoded data removed]",
      "text/plain": [
       "<Figure size 432x288 with 2 Axes>"
      ]
     },
     "metadata": {
      "needs_background": "light"
     },
     "output_type": "display_data"
    }
   ],
   "source": [
    "lightgbm = LGBMClassifier(num_leaves=6,\n",
    "                       learning_rate=0.01, \n",
    "                       n_estimators=7000,\n",
    "                       max_bin=200, \n",
    "                       bagging_fraction=0.8,\n",
    "                       bagging_freq=4, \n",
    "                       bagging_seed=8,\n",
    "                       feature_fraction=0.2,\n",
    "                       feature_fraction_seed=8,\n",
    "                       min_sum_hessian_in_leaf = 11,\n",
    "                       verbose=-1,\n",
    "                       random_state=42)\n",
    "\n",
    "y_pred = lightgbm.fit(X_train, y_train).predict(X_val)\n",
    "lightgbm_results = calculate_results(y_val, y_pred)\n",
    "results['LGBM'] = pd.DataFrame(lightgbm_results, index=['LGBM']).T\n",
    "\n",
    "cm = confusion_matrix(y_val, y_pred)\n",
    "disp = ConfusionMatrixDisplay(confusion_matrix=cm)\n",
    "disp.plot()\n",
    "plt.show()"
   ]
  },
  {
   "cell_type": "code",
   "execution_count": 15,
   "id": "01bfcc27",
   "metadata": {
    "execution": {
     "iopub.execute_input": "2022-09-25T03:09:06.183979Z",
     "iopub.status.busy": "2022-09-25T03:09:06.183156Z",
     "iopub.status.idle": "2022-09-25T03:09:06.195453Z",
     "shell.execute_reply": "2022-09-25T03:09:06.194234Z"
    },
    "papermill": {
     "duration": 0.025352,
     "end_time": "2022-09-25T03:09:06.198166",
     "exception": false,
     "start_time": "2022-09-25T03:09:06.172814",
     "status": "completed"
    },
    "tags": []
   },
   "outputs": [
    {
     "data": {
      "text/html": [
       "<div>\n",
       "<style scoped>\n",
       "    .dataframe tbody tr th:only-of-type {\n",
       "        vertical-align: middle;\n",
       "    }\n",
       "\n",
       "    .dataframe tbody tr th {\n",
       "        vertical-align: top;\n",
       "    }\n",
       "\n",
       "    .dataframe thead th {\n",
       "        text-align: right;\n",
       "    }\n",
       "</style>\n",
       "<table border=\"1\" class=\"dataframe\">\n",
       "  <thead>\n",
       "    <tr style=\"text-align: right;\">\n",
       "      <th></th>\n",
       "      <th>Random Forest</th>\n",
       "      <th>SVM</th>\n",
       "      <th>Gradient Boosting</th>\n",
       "      <th>LGBM</th>\n",
       "    </tr>\n",
       "  </thead>\n",
       "  <tbody>\n",
       "    <tr>\n",
       "      <th>Accuracy</th>\n",
       "      <td>0.770293</td>\n",
       "      <td>0.791296</td>\n",
       "      <td>0.771429</td>\n",
       "      <td>0.773888</td>\n",
       "    </tr>\n",
       "    <tr>\n",
       "      <th>Precision</th>\n",
       "      <td>0.789725</td>\n",
       "      <td>0.753891</td>\n",
       "      <td>0.771865</td>\n",
       "      <td>0.767223</td>\n",
       "    </tr>\n",
       "    <tr>\n",
       "      <th>Recall</th>\n",
       "      <td>0.742975</td>\n",
       "      <td>0.871113</td>\n",
       "      <td>0.777070</td>\n",
       "      <td>0.792806</td>\n",
       "    </tr>\n",
       "    <tr>\n",
       "      <th>F1 Score</th>\n",
       "      <td>0.765637</td>\n",
       "      <td>0.808274</td>\n",
       "      <td>0.774459</td>\n",
       "      <td>0.779805</td>\n",
       "    </tr>\n",
       "  </tbody>\n",
       "</table>\n",
       "</div>"
      ],
      "text/plain": [
       "           Random Forest       SVM  Gradient Boosting      LGBM\n",
       "Accuracy        0.770293  0.791296           0.771429  0.773888\n",
       "Precision       0.789725  0.753891           0.771865  0.767223\n",
       "Recall          0.742975  0.871113           0.777070  0.792806\n",
       "F1 Score        0.765637  0.808274           0.774459  0.779805"
      ]
     },
     "execution_count": 15,
     "metadata": {},
     "output_type": "execute_result"
    }
   ],
   "source": [
    "results"
   ]
  }
 ],
 "metadata": {
  "kernelspec": {
   "display_name": "Python 3",
   "language": "python",
   "name": "python3"
  },
  "language_info": {
   "codemirror_mode": {
    "name": "ipython",
    "version": 3
   },
   "file_extension": ".py",
   "mimetype": "text/x-python",
   "name": "python",
   "nbconvert_exporter": "python",
   "pygments_lexer": "ipython3",
   "version": "3.7.12"
  },
  "papermill": {
   "default_parameters": {},
   "duration": 26.935017,
   "end_time": "2022-09-25T03:09:07.028919",
   "environment_variables": {},
   "exception": null,
   "input_path": "__notebook__.ipynb",
   "output_path": "__notebook__.ipynb",
   "parameters": {},
   "start_time": "2022-09-25T03:08:40.093902",
   "version": "2.3.4"
  }
 },
 "nbformat": 4,
 "nbformat_minor": 5
}
